{
 "cells": [
  {
   "cell_type": "code",
   "execution_count": 2,
   "id": "c62779a5-dc76-4312-be59-cfb31b118790",
   "metadata": {},
   "outputs": [],
   "source": [
    "# Q 1.  What is Statistics?\n",
    "#Statistics is a branch of mathematics that involves collecting, organizing, analyzing, interpreting, and presenting data. It provides methods for making inferences and decisions in the presence of uncertainty. Statistics is used in various fields such as science, business, economics, social sciences, and more to understand and make sense of data."
   ]
  },
  {
   "cell_type": "code",
   "execution_count": 3,
   "id": "a6d510fd-a0b3-407f-b700-dbb7d8ac4f3e",
   "metadata": {},
   "outputs": [],
   "source": [
    "# 2 . Define the different types of statistics and give an example of when each type might be used.\n",
    "# Descriptive Statistics: Descriptive statistics involves summarizing and describing the features of a dataset. It includes measures such as mean, median, mode, standard deviation, and range. For example, descriptive statistics can be used to summarize the test scores of students in a class."
   ]
  },
  {
   "cell_type": "code",
   "execution_count": 4,
   "id": "9ef4936a-b7df-492c-bba2-bbbab63c5e95",
   "metadata": {},
   "outputs": [],
   "source": [
    "# Q3. What are the different types of data and how do they differ from each other? Provide an example of each type of data.\n",
    "# Qualitative Data: Qualitative data is non-numeric and categorical in nature. It represents characteristics or qualities and can be divided into categories. For example, the color of cars (red, blue, green) is qualitative data.\n",
    "#Quantitative Data: Quantitative data is numeric and represents quantities or numerical measurements. It can be further categorized into discrete or continuous data. For example, the weight of apples in a basket is quantitative data."
   ]
  },
  {
   "cell_type": "code",
   "execution_count": 5,
   "id": "15b4df3c-09e5-4b86-b5f1-eb2a8683e83d",
   "metadata": {},
   "outputs": [],
   "source": [
    "# Q5. Explain the concept of levels of measurement and give an example of a variable for each level. Levels of measurement refer to the different scales or levels at which data can be measured. There are four levels of measurement: nominal, ordinal, interval, and ratio.\n",
    "# Nominal: In nominal measurement, data is categorized into distinct groups with no inherent order or ranking. An example is the type of car models (e.g., Toyota, Honda, Ford).\n",
    "#Ordinal: In ordinal measurement, data can be ranked or ordered, but the differences between the categories are not uniform. An example is the ranking of satisfaction levels (e.g., very satisfied, satisfied, neutral, dissatisfied, very dissatisfied).\n",
    "#Interval: In interval measurement, the differences between values are meaningful, but there is no true zero point. An example is temperature measured in Celsius or Fahrenheit.\n",
    "#Ratio: In ratio measurement, there is a true zero point, and both differences and ratios are meaningful. An example is weight or height measurements."
   ]
  },
  {
   "cell_type": "code",
   "execution_count": 6,
   "id": "7e888b05-b5e2-49b6-adc7-66c21d42e409",
   "metadata": {},
   "outputs": [],
   "source": [
    "# Q6. Why is it important to understand the level of measurement when analyzing data? Provide an example to illustrate your answer.\n",
    "#Understanding the level of measurement is important because it determines the type of statistical analysis that can be performed on the data. For example, if data is measured at the nominal level, only certain types of analysis, such as frequency counts and mode, are appropriate. If data is measured at the interval or ratio level, more advanced statistical techniques, such as mean and standard deviation, can be used. Using the wrong statistical analysis for a given level of measurement can lead to incorrect conclusions and interpretations."
   ]
  },
  {
   "cell_type": "code",
   "execution_count": 7,
   "id": "0b988b92-57fb-4b32-84b7-4b43173e67fb",
   "metadata": {},
   "outputs": [],
   "source": [
    "# Q7. How nominal data type is different from ordinal data type.\n",
    "#Nominal data represents categories with no inherent order or ranking, while ordinal data represents categories with a specific order or ranking. In nominal data, the categories are simply different, while in ordinal data, the categories have a meaningful order or ranking. For example, nominal data might be the type of fruit (apple, banana, orange), while ordinal data might be the ranking of satisfaction (very satisfied, satisfied, neutral, dissatisfied, very dissatisfied).\n"
   ]
  },
  {
   "cell_type": "code",
   "execution_count": 8,
   "id": "7f3e7254-84c6-47dc-ac80-7fa75a24a6f9",
   "metadata": {},
   "outputs": [],
   "source": [
    "# Q8. Which type of plot can be used to display data in terms of range?\n",
    "#A box plot (also known as a box-and-whisker plot) is commonly used to display the range of a dataset. It provides a visual summary of the minimum, first quartile, median, third quartile, and maximum of a dataset, allowing for a quick understanding of the range and distribution of the data.\n"
   ]
  },
  {
   "cell_type": "code",
   "execution_count": null,
   "id": "ca950bf8-9340-461f-9c0a-98db36c46af6",
   "metadata": {},
   "outputs": [],
   "source": [
    "#"
   ]
  }
 ],
 "metadata": {
  "kernelspec": {
   "display_name": "Python 3 (ipykernel)",
   "language": "python",
   "name": "python3"
  },
  "language_info": {
   "codemirror_mode": {
    "name": "ipython",
    "version": 3
   },
   "file_extension": ".py",
   "mimetype": "text/x-python",
   "name": "python",
   "nbconvert_exporter": "python",
   "pygments_lexer": "ipython3",
   "version": "3.10.8"
  }
 },
 "nbformat": 4,
 "nbformat_minor": 5
}
